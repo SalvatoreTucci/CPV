{
  "cells": [
    {
      "cell_type": "markdown",
      "metadata": {
        "id": "view-in-github",
        "colab_type": "text"
      },
      "source": [
        "<a href=\"https://colab.research.google.com/github/SalvatoreTucci/CPV/blob/main/CPV_Text_categorization.ipynb\" target=\"_parent\"><img src=\"https://colab.research.google.com/assets/colab-badge.svg\" alt=\"Open In Colab\"/></a>"
      ]
    },
    {
      "cell_type": "code",
      "execution_count": null,
      "metadata": {
        "colab": {
          "base_uri": "https://localhost:8080/"
        },
        "id": "dvrJarQK5xcH",
        "outputId": "181d57c5-dcae-42a5-84dc-0929d27d3e20"
      },
      "outputs": [
        {
          "output_type": "stream",
          "name": "stdout",
          "text": [
            "Looking in indexes: https://pypi.org/simple, https://us-python.pkg.dev/colab-wheels/public/simple/\n",
            "Requirement already satisfied: spaCy in /usr/local/lib/python3.8/dist-packages (3.4.3)\n",
            "Requirement already satisfied: jinja2 in /usr/local/lib/python3.8/dist-packages (from spaCy) (2.11.3)\n",
            "Requirement already satisfied: spacy-loggers<2.0.0,>=1.0.0 in /usr/local/lib/python3.8/dist-packages (from spaCy) (1.0.3)\n",
            "Requirement already satisfied: srsly<3.0.0,>=2.4.3 in /usr/local/lib/python3.8/dist-packages (from spaCy) (2.4.5)\n",
            "Requirement already satisfied: numpy>=1.15.0 in /usr/local/lib/python3.8/dist-packages (from spaCy) (1.21.6)\n",
            "Requirement already satisfied: catalogue<2.1.0,>=2.0.6 in /usr/local/lib/python3.8/dist-packages (from spaCy) (2.0.8)\n",
            "Requirement already satisfied: setuptools in /usr/local/lib/python3.8/dist-packages (from spaCy) (57.4.0)\n",
            "Requirement already satisfied: preshed<3.1.0,>=3.0.2 in /usr/local/lib/python3.8/dist-packages (from spaCy) (3.0.8)\n",
            "Requirement already satisfied: tqdm<5.0.0,>=4.38.0 in /usr/local/lib/python3.8/dist-packages (from spaCy) (4.64.1)\n",
            "Requirement already satisfied: murmurhash<1.1.0,>=0.28.0 in /usr/local/lib/python3.8/dist-packages (from spaCy) (1.0.9)\n",
            "Requirement already satisfied: pydantic!=1.8,!=1.8.1,<1.11.0,>=1.7.4 in /usr/local/lib/python3.8/dist-packages (from spaCy) (1.10.2)\n",
            "Requirement already satisfied: requests<3.0.0,>=2.13.0 in /usr/local/lib/python3.8/dist-packages (from spaCy) (2.23.0)\n",
            "Requirement already satisfied: langcodes<4.0.0,>=3.2.0 in /usr/local/lib/python3.8/dist-packages (from spaCy) (3.3.0)\n",
            "Requirement already satisfied: spacy-legacy<3.1.0,>=3.0.10 in /usr/local/lib/python3.8/dist-packages (from spaCy) (3.0.10)\n",
            "Requirement already satisfied: cymem<2.1.0,>=2.0.2 in /usr/local/lib/python3.8/dist-packages (from spaCy) (2.0.7)\n",
            "Requirement already satisfied: pathy>=0.3.5 in /usr/local/lib/python3.8/dist-packages (from spaCy) (0.9.0)\n",
            "Requirement already satisfied: typer<0.8.0,>=0.3.0 in /usr/local/lib/python3.8/dist-packages (from spaCy) (0.7.0)\n",
            "Requirement already satisfied: packaging>=20.0 in /usr/local/lib/python3.8/dist-packages (from spaCy) (21.3)\n",
            "Requirement already satisfied: wasabi<1.1.0,>=0.9.1 in /usr/local/lib/python3.8/dist-packages (from spaCy) (0.10.1)\n",
            "Requirement already satisfied: thinc<8.2.0,>=8.1.0 in /usr/local/lib/python3.8/dist-packages (from spaCy) (8.1.5)\n",
            "Requirement already satisfied: pyparsing!=3.0.5,>=2.0.2 in /usr/local/lib/python3.8/dist-packages (from packaging>=20.0->spaCy) (3.0.9)\n",
            "Requirement already satisfied: smart-open<6.0.0,>=5.2.1 in /usr/local/lib/python3.8/dist-packages (from pathy>=0.3.5->spaCy) (5.2.1)\n",
            "Requirement already satisfied: typing-extensions>=4.1.0 in /usr/local/lib/python3.8/dist-packages (from pydantic!=1.8,!=1.8.1,<1.11.0,>=1.7.4->spaCy) (4.1.1)\n",
            "Requirement already satisfied: urllib3!=1.25.0,!=1.25.1,<1.26,>=1.21.1 in /usr/local/lib/python3.8/dist-packages (from requests<3.0.0,>=2.13.0->spaCy) (1.24.3)\n",
            "Requirement already satisfied: chardet<4,>=3.0.2 in /usr/local/lib/python3.8/dist-packages (from requests<3.0.0,>=2.13.0->spaCy) (3.0.4)\n",
            "Requirement already satisfied: certifi>=2017.4.17 in /usr/local/lib/python3.8/dist-packages (from requests<3.0.0,>=2.13.0->spaCy) (2022.9.24)\n",
            "Requirement already satisfied: idna<3,>=2.5 in /usr/local/lib/python3.8/dist-packages (from requests<3.0.0,>=2.13.0->spaCy) (2.10)\n",
            "Requirement already satisfied: confection<1.0.0,>=0.0.1 in /usr/local/lib/python3.8/dist-packages (from thinc<8.2.0,>=8.1.0->spaCy) (0.0.3)\n",
            "Requirement already satisfied: blis<0.8.0,>=0.7.8 in /usr/local/lib/python3.8/dist-packages (from thinc<8.2.0,>=8.1.0->spaCy) (0.7.9)\n",
            "Requirement already satisfied: click<9.0.0,>=7.1.1 in /usr/local/lib/python3.8/dist-packages (from typer<0.8.0,>=0.3.0->spaCy) (7.1.2)\n",
            "Requirement already satisfied: MarkupSafe>=0.23 in /usr/local/lib/python3.8/dist-packages (from jinja2->spaCy) (2.0.1)\n",
            "2022-12-03 15:27:00.386336: E tensorflow/stream_executor/cuda/cuda_driver.cc:271] failed call to cuInit: CUDA_ERROR_NO_DEVICE: no CUDA-capable device is detected\n",
            "Looking in indexes: https://pypi.org/simple, https://us-python.pkg.dev/colab-wheels/public/simple/\n",
            "Collecting it-core-news-sm==3.4.0\n",
            "  Downloading https://github.com/explosion/spacy-models/releases/download/it_core_news_sm-3.4.0/it_core_news_sm-3.4.0-py3-none-any.whl (13.0 MB)\n",
            "\u001b[K     |████████████████████████████████| 13.0 MB 1.8 MB/s \n",
            "\u001b[?25hRequirement already satisfied: spacy<3.5.0,>=3.4.0 in /usr/local/lib/python3.8/dist-packages (from it-core-news-sm==3.4.0) (3.4.3)\n",
            "Requirement already satisfied: thinc<8.2.0,>=8.1.0 in /usr/local/lib/python3.8/dist-packages (from spacy<3.5.0,>=3.4.0->it-core-news-sm==3.4.0) (8.1.5)\n",
            "Requirement already satisfied: typer<0.8.0,>=0.3.0 in /usr/local/lib/python3.8/dist-packages (from spacy<3.5.0,>=3.4.0->it-core-news-sm==3.4.0) (0.7.0)\n",
            "Requirement already satisfied: pydantic!=1.8,!=1.8.1,<1.11.0,>=1.7.4 in /usr/local/lib/python3.8/dist-packages (from spacy<3.5.0,>=3.4.0->it-core-news-sm==3.4.0) (1.10.2)\n",
            "Requirement already satisfied: setuptools in /usr/local/lib/python3.8/dist-packages (from spacy<3.5.0,>=3.4.0->it-core-news-sm==3.4.0) (57.4.0)\n",
            "Requirement already satisfied: catalogue<2.1.0,>=2.0.6 in /usr/local/lib/python3.8/dist-packages (from spacy<3.5.0,>=3.4.0->it-core-news-sm==3.4.0) (2.0.8)\n",
            "Requirement already satisfied: spacy-legacy<3.1.0,>=3.0.10 in /usr/local/lib/python3.8/dist-packages (from spacy<3.5.0,>=3.4.0->it-core-news-sm==3.4.0) (3.0.10)\n",
            "Requirement already satisfied: langcodes<4.0.0,>=3.2.0 in /usr/local/lib/python3.8/dist-packages (from spacy<3.5.0,>=3.4.0->it-core-news-sm==3.4.0) (3.3.0)\n",
            "Requirement already satisfied: packaging>=20.0 in /usr/local/lib/python3.8/dist-packages (from spacy<3.5.0,>=3.4.0->it-core-news-sm==3.4.0) (21.3)\n",
            "Requirement already satisfied: numpy>=1.15.0 in /usr/local/lib/python3.8/dist-packages (from spacy<3.5.0,>=3.4.0->it-core-news-sm==3.4.0) (1.21.6)\n",
            "Requirement already satisfied: wasabi<1.1.0,>=0.9.1 in /usr/local/lib/python3.8/dist-packages (from spacy<3.5.0,>=3.4.0->it-core-news-sm==3.4.0) (0.10.1)\n",
            "Requirement already satisfied: jinja2 in /usr/local/lib/python3.8/dist-packages (from spacy<3.5.0,>=3.4.0->it-core-news-sm==3.4.0) (2.11.3)\n",
            "Requirement already satisfied: srsly<3.0.0,>=2.4.3 in /usr/local/lib/python3.8/dist-packages (from spacy<3.5.0,>=3.4.0->it-core-news-sm==3.4.0) (2.4.5)\n",
            "Requirement already satisfied: spacy-loggers<2.0.0,>=1.0.0 in /usr/local/lib/python3.8/dist-packages (from spacy<3.5.0,>=3.4.0->it-core-news-sm==3.4.0) (1.0.3)\n",
            "Requirement already satisfied: preshed<3.1.0,>=3.0.2 in /usr/local/lib/python3.8/dist-packages (from spacy<3.5.0,>=3.4.0->it-core-news-sm==3.4.0) (3.0.8)\n",
            "Requirement already satisfied: murmurhash<1.1.0,>=0.28.0 in /usr/local/lib/python3.8/dist-packages (from spacy<3.5.0,>=3.4.0->it-core-news-sm==3.4.0) (1.0.9)\n",
            "Requirement already satisfied: cymem<2.1.0,>=2.0.2 in /usr/local/lib/python3.8/dist-packages (from spacy<3.5.0,>=3.4.0->it-core-news-sm==3.4.0) (2.0.7)\n",
            "Requirement already satisfied: tqdm<5.0.0,>=4.38.0 in /usr/local/lib/python3.8/dist-packages (from spacy<3.5.0,>=3.4.0->it-core-news-sm==3.4.0) (4.64.1)\n",
            "Requirement already satisfied: requests<3.0.0,>=2.13.0 in /usr/local/lib/python3.8/dist-packages (from spacy<3.5.0,>=3.4.0->it-core-news-sm==3.4.0) (2.23.0)\n",
            "Requirement already satisfied: pathy>=0.3.5 in /usr/local/lib/python3.8/dist-packages (from spacy<3.5.0,>=3.4.0->it-core-news-sm==3.4.0) (0.9.0)\n",
            "Requirement already satisfied: pyparsing!=3.0.5,>=2.0.2 in /usr/local/lib/python3.8/dist-packages (from packaging>=20.0->spacy<3.5.0,>=3.4.0->it-core-news-sm==3.4.0) (3.0.9)\n",
            "Requirement already satisfied: smart-open<6.0.0,>=5.2.1 in /usr/local/lib/python3.8/dist-packages (from pathy>=0.3.5->spacy<3.5.0,>=3.4.0->it-core-news-sm==3.4.0) (5.2.1)\n",
            "Requirement already satisfied: typing-extensions>=4.1.0 in /usr/local/lib/python3.8/dist-packages (from pydantic!=1.8,!=1.8.1,<1.11.0,>=1.7.4->spacy<3.5.0,>=3.4.0->it-core-news-sm==3.4.0) (4.1.1)\n",
            "Requirement already satisfied: urllib3!=1.25.0,!=1.25.1,<1.26,>=1.21.1 in /usr/local/lib/python3.8/dist-packages (from requests<3.0.0,>=2.13.0->spacy<3.5.0,>=3.4.0->it-core-news-sm==3.4.0) (1.24.3)\n",
            "Requirement already satisfied: chardet<4,>=3.0.2 in /usr/local/lib/python3.8/dist-packages (from requests<3.0.0,>=2.13.0->spacy<3.5.0,>=3.4.0->it-core-news-sm==3.4.0) (3.0.4)\n",
            "Requirement already satisfied: certifi>=2017.4.17 in /usr/local/lib/python3.8/dist-packages (from requests<3.0.0,>=2.13.0->spacy<3.5.0,>=3.4.0->it-core-news-sm==3.4.0) (2022.9.24)\n",
            "Requirement already satisfied: idna<3,>=2.5 in /usr/local/lib/python3.8/dist-packages (from requests<3.0.0,>=2.13.0->spacy<3.5.0,>=3.4.0->it-core-news-sm==3.4.0) (2.10)\n",
            "Requirement already satisfied: confection<1.0.0,>=0.0.1 in /usr/local/lib/python3.8/dist-packages (from thinc<8.2.0,>=8.1.0->spacy<3.5.0,>=3.4.0->it-core-news-sm==3.4.0) (0.0.3)\n",
            "Requirement already satisfied: blis<0.8.0,>=0.7.8 in /usr/local/lib/python3.8/dist-packages (from thinc<8.2.0,>=8.1.0->spacy<3.5.0,>=3.4.0->it-core-news-sm==3.4.0) (0.7.9)\n",
            "Requirement already satisfied: click<9.0.0,>=7.1.1 in /usr/local/lib/python3.8/dist-packages (from typer<0.8.0,>=0.3.0->spacy<3.5.0,>=3.4.0->it-core-news-sm==3.4.0) (7.1.2)\n",
            "Requirement already satisfied: MarkupSafe>=0.23 in /usr/local/lib/python3.8/dist-packages (from jinja2->spacy<3.5.0,>=3.4.0->it-core-news-sm==3.4.0) (2.0.1)\n",
            "Installing collected packages: it-core-news-sm\n",
            "Successfully installed it-core-news-sm-3.4.0\n",
            "\u001b[38;5;2m✔ Download and installation successful\u001b[0m\n",
            "You can now load the package via spacy.load('it_core_news_sm')\n"
          ]
        }
      ],
      "source": [
        "!pip install -U spaCy\n",
        "!python -m spacy download it_core_news_sm"
      ]
    },
    {
      "cell_type": "code",
      "execution_count": null,
      "metadata": {
        "id": "4KzoraJ_tYxU"
      },
      "outputs": [],
      "source": [
        "import pandas as pd\n",
        "import string\n",
        "import spacy\n",
        "from sklearn.feature_extraction.text import CountVectorizer,TfidfVectorizer\n",
        "from sklearn.base import TransformerMixin\n",
        "from sklearn.pipeline import Pipeline\n",
        "from spacy.lang.it.stop_words import STOP_WORDS\n",
        "from spacy.lang.it import Italian\n",
        "from sklearn import metrics\n",
        "from sklearn import svm\n",
        "from sklearn.model_selection import StratifiedKFold\n",
        "from sklearn import neural_network\n",
        "from sklearn.model_selection import KFold\n",
        "from sklearn.model_selection import train_test_split\n",
        "\n",
        "#init spaCy\n",
        "punctuations = string.punctuation\n",
        "nlp = spacy.load(\"it_core_news_sm\")\n",
        "stop_words = spacy.lang.it.stop_words.STOP_WORDS\n",
        "parser = Italian()\n",
        "\n",
        "# Custom transformer using spaCy\n",
        "class predictors(TransformerMixin):\n",
        "    def transform(self, X, **transform_params):\n",
        "        # Cleaning Text\n",
        "        return [clean_text(text) for text in X]\n",
        "\n",
        "    def fit(self, X, y=None, **fit_params):\n",
        "        return self\n",
        "\n",
        "    def get_params(self, deep=True):\n",
        "        return {}\n",
        "\n",
        "# Basic function to clean the text\n",
        "def clean_text(text):\n",
        "    # Removing spaces and converting text into lowercase\n",
        "    return text.strip().lower()\n",
        "\n",
        "# Tokenizer function\n",
        "def spacy_tokenizer(sentence):\n",
        "    mytokens = parser(sentence)\n",
        "    mytokens = [ word.text for word in mytokens ]\n",
        "    # remove stop words\n",
        "    mytokens = [ word for word in mytokens if word not in stop_words and word not in punctuations ]\n",
        "    # return preprocessed list of tokens\n",
        "    return mytokens"
      ]
    },
    {
      "cell_type": "code",
      "execution_count": null,
      "metadata": {
        "colab": {
          "base_uri": "https://localhost:8080/"
        },
        "id": "AaLbs6-0MeVG",
        "outputId": "931aa526-a234-493c-b737-4c539b85fd91"
      },
      "outputs": [
        {
          "output_type": "stream",
          "name": "stdout",
          "text": [
            "Mounted at /content/drive\n"
          ]
        }
      ],
      "source": [
        "from google.colab import drive\n",
        "drive.mount('/content/drive')"
      ]
    },
    {
      "cell_type": "code",
      "execution_count": null,
      "metadata": {
        "id": "HAmWRu_E6U2v",
        "colab": {
          "base_uri": "https://localhost:8080/",
          "height": 90
        },
        "outputId": "ac7eea8e-0304-4ae7-a596-b6cf7bf882f5"
      },
      "outputs": [
        {
          "output_type": "execute_result",
          "data": {
            "text/plain": [
              "'\\n# join tra dataset cpv e dataset bandi di gara\\ndf3 = pd.merge(cpv2,cpv1,on=\\'cpv\\', how=\\'left\\')\\ncpv3 = df3[\"cpv\"]\\n# cpv\\ny = [x[0:10] for x in cpv1]\\nprint(len(collections.Counter(y))) # totale elementi supera totale cpv esistenti -> ci sono cpv inesistenti len(y)\\n'"
            ],
            "application/vnd.google.colaboratory.intrinsic+json": {
              "type": "string"
            }
          },
          "metadata": {},
          "execution_count": 4
        }
      ],
      "source": [
        "import collections\n",
        "\n",
        "df1 = pd.read_csv('/content/drive/MyDrive/cpv.csv', sep=\",\", names=[\"cig\",\"oggetto_bando\",\"oggetto_lotto\",\"oggetto_principale\",\"cpv\",\"desc_cpv\"], encoding='utf-8')\n",
        "df2 = pd.read_csv('/content/drive/MyDrive/cpv_2008.csv', sep=\",\")\n",
        "df2 = df2.rename({'cod_cpv':'cpv'}, axis=1)\n",
        "cpv1 = df1[\"cpv\"]\n",
        "cpv2 = df2[\"cpv\"]\n",
        "#BoW with word count\n",
        "vector = CountVectorizer(tokenizer = spacy_tokenizer, ngram_range=(1,1))\n",
        "#BoW with TF-IDF\n",
        "vector = TfidfVectorizer(tokenizer = spacy_tokenizer)\n",
        "\n",
        "\"\"\"\n",
        "# join tra dataset cpv e dataset bandi di gara\n",
        "df3 = pd.merge(cpv2,cpv1,on='cpv', how='left')\n",
        "cpv3 = df3[\"cpv\"]\n",
        "# cpv\n",
        "y = [x[0:10] for x in cpv1]\n",
        "print(len(collections.Counter(y))) # totale elementi supera totale cpv esistenti -> ci sono cpv inesistenti len(y)\n",
        "\"\"\""
      ]
    },
    {
      "cell_type": "code",
      "execution_count": null,
      "metadata": {
        "id": "qGtAUjAjwyC6"
      },
      "outputs": [],
      "source": [
        "df1 = df1[df1.duplicated('cpv',keep=False)] # rimuovo i cpv con un solo bando associato\n",
        "\n",
        "X = df1['oggetto_bando']\n",
        "y = df1['cpv'] # the labels"
      ]
    },
    {
      "cell_type": "code",
      "execution_count": null,
      "metadata": {
        "id": "PBsuo-gsA1_4",
        "colab": {
          "base_uri": "https://localhost:8080/",
          "height": 254
        },
        "outputId": "cf85f12b-2d9e-4f21-e7e2-e67887007d07"
      },
      "outputs": [
        {
          "output_type": "execute_result",
          "data": {
            "text/plain": [
              "\"\\n# gruppi\\ny = [x[0:3] for x in df1['cpv']]\\nX_main, X_test, y_main, y_test = train_test_split(X, y, test_size=0.2, random_state=42, stratify=y)\\nX_train, X_val, y_train, y_val = train_test_split(X_main, y_main, test_size=0.125, random_state=42, stratify=y_main)\\n\\n# classi\\ny = [x[0:4] for x in df1['cpv']]\\nX_main, X_test, y_main, y_test = train_test_split(X, y, test_size=0.2, random_state=42, stratify=y)\\nX_train, X_val, y_train, y_val = train_test_split(X_main, y_main, test_size=0.125, random_state=42, stratify=y_main)\\n\\n# categorie\\ny = [x[0:5] for x in df1['cpv']]\\nX_main, X_test, y_main, y_test = train_test_split(X, y, test_size=0.2, random_state=42, stratify=y)\\nX_train, X_val, y_train, y_val = train_test_split(X_main, y_main, test_size=0.125, random_state=42, stratify=y_main)\\n\\n# cpv\\ny = [x[0:10] for x in df1['cpv']]\\nX_main, X_test, y_main, y_test = train_test_split(X, y, test_size=0.2, random_state=42, stratify=y)\\nX_train, X_val, y_train, y_val = train_test_split(X_main, y_main, test_size=0.125, random_state=42, stratify=y_main)\\n\""
            ],
            "application/vnd.google.colaboratory.intrinsic+json": {
              "type": "string"
            }
          },
          "metadata": {},
          "execution_count": 6
        }
      ],
      "source": [
        "# divisioni\n",
        "y = [x[0:2] for x in df1['cpv']]\n",
        "X_main, X_test, y_main, y_test = train_test_split(X, y, test_size=0.2, random_state=42, stratify=y) # divisione in main e test 80% - 20%\n",
        "X_train, X_val, y_train, y_val = train_test_split(X_main, y_main, test_size=0.125, random_state=42, stratify=y_main) # divisione del main in train e valutation 70% - 10%\n",
        "\"\"\"\n",
        "# gruppi\n",
        "y = [x[0:3] for x in df1['cpv']]\n",
        "X_main, X_test, y_main, y_test = train_test_split(X, y, test_size=0.2, random_state=42, stratify=y)\n",
        "X_train, X_val, y_train, y_val = train_test_split(X_main, y_main, test_size=0.125, random_state=42, stratify=y_main)\n",
        "\n",
        "# classi\n",
        "y = [x[0:4] for x in df1['cpv']]\n",
        "X_main, X_test, y_main, y_test = train_test_split(X, y, test_size=0.2, random_state=42, stratify=y)\n",
        "X_train, X_val, y_train, y_val = train_test_split(X_main, y_main, test_size=0.125, random_state=42, stratify=y_main)\n",
        "\n",
        "# categorie\n",
        "y = [x[0:5] for x in df1['cpv']]\n",
        "X_main, X_test, y_main, y_test = train_test_split(X, y, test_size=0.2, random_state=42, stratify=y)\n",
        "X_train, X_val, y_train, y_val = train_test_split(X_main, y_main, test_size=0.125, random_state=42, stratify=y_main)\n",
        "\n",
        "# cpv\n",
        "y = [x[0:10] for x in df1['cpv']]\n",
        "X_main, X_test, y_main, y_test = train_test_split(X, y, test_size=0.2, random_state=42, stratify=y)\n",
        "X_train, X_val, y_train, y_val = train_test_split(X_main, y_main, test_size=0.125, random_state=42, stratify=y_main)\n",
        "\"\"\""
      ]
    },
    {
      "cell_type": "code",
      "execution_count": null,
      "metadata": {
        "id": "JQhS9B4dxR3S",
        "colab": {
          "base_uri": "https://localhost:8080/"
        },
        "outputId": "02644b57-19e6-48e7-c278-a89b42bece62"
      },
      "outputs": [
        {
          "output_type": "execute_result",
          "data": {
            "text/plain": [
              "Pipeline(steps=[('cleaner', <__main__.predictors object at 0x7feda01d0ee0>),\n",
              "                ('vectorizer',\n",
              "                 TfidfVectorizer(tokenizer=<function spacy_tokenizer at 0x7feda0d401f0>)),\n",
              "                ('classifier', LinearSVC())])"
            ]
          },
          "metadata": {},
          "execution_count": 7
        }
      ],
      "source": [
        "# Linear Support Vector Machine classifier\n",
        "classifier = svm.LinearSVC()\n",
        "# Multi-layer Perceptron classifier\n",
        "#classifier = neural_network.MLPClassifier()\n",
        "# Create the pipeline\n",
        "pipe = Pipeline([(\"cleaner\", predictors()),\n",
        "('vectorizer', vector),\n",
        "('classifier', classifier)])\n",
        "# Fit the model\n",
        "pipe.fit(X_train, y_train)"
      ]
    },
    {
      "cell_type": "code",
      "execution_count": null,
      "metadata": {
        "id": "8Mf2MoMoy6A8",
        "colab": {
          "base_uri": "https://localhost:8080/"
        },
        "outputId": "bab833f1-83aa-442d-e783-35efd6cc2f55"
      },
      "outputs": [
        {
          "output_type": "stream",
          "name": "stdout",
          "text": [
            "0.768348455184605\n",
            "Accuracy: 0.768348455184605\n"
          ]
        },
        {
          "output_type": "stream",
          "name": "stderr",
          "text": [
            "/usr/local/lib/python3.8/dist-packages/sklearn/metrics/_classification.py:1318: UndefinedMetricWarning: Precision is ill-defined and being set to 0.0 in labels with no predicted samples. Use `zero_division` parameter to control this behavior.\n",
            "  _warn_prf(average, modifier, msg_start, len(result))\n"
          ]
        },
        {
          "output_type": "stream",
          "name": "stdout",
          "text": [
            "P=0.5308846661148918, R=0.3787464673661147, F1=0.40887691615100585\n",
            "======================================================\n"
          ]
        },
        {
          "output_type": "stream",
          "name": "stderr",
          "text": [
            "/usr/local/lib/python3.8/dist-packages/sklearn/metrics/_classification.py:1318: UndefinedMetricWarning: Precision and F-score are ill-defined and being set to 0.0 in labels with no predicted samples. Use `zero_division` parameter to control this behavior.\n",
            "  _warn_prf(average, modifier, msg_start, len(result))\n",
            "/usr/local/lib/python3.8/dist-packages/sklearn/metrics/_classification.py:1318: UndefinedMetricWarning: Precision and F-score are ill-defined and being set to 0.0 in labels with no predicted samples. Use `zero_division` parameter to control this behavior.\n",
            "  _warn_prf(average, modifier, msg_start, len(result))\n"
          ]
        },
        {
          "output_type": "stream",
          "name": "stdout",
          "text": [
            "              precision    recall  f1-score   support\n",
            "\n",
            "          01     0.3333    0.0312    0.0571        32\n",
            "          02     0.5000    0.0625    0.1111        16\n",
            "          03     0.7003    0.6145    0.6546      4412\n",
            "          05     0.0000    0.0000    0.0000         6\n",
            "          09     0.7763    0.7551    0.7656     21231\n",
            "          10     0.0000    0.0000    0.0000         2\n",
            "          11     0.7500    0.1463    0.2449        82\n",
            "          13     0.0000    0.0000    0.0000         3\n",
            "          14     0.5914    0.3875    0.4682      2854\n",
            "          15     0.8136    0.7973    0.8054     12120\n",
            "          16     0.5866    0.4201    0.4896      1371\n",
            "          17     0.2000    0.0345    0.0588        58\n",
            "          18     0.7097    0.7161    0.7129      9224\n",
            "          19     0.5967    0.4038    0.4816      3752\n",
            "          20     0.3333    0.0227    0.0426        44\n",
            "          21     0.6316    0.0857    0.1509       140\n",
            "          22     0.7356    0.7265    0.7310     38089\n",
            "          23     0.6818    0.2041    0.3141       147\n",
            "          24     0.7070    0.5282    0.6046     16461\n",
            "          25     0.4286    0.0670    0.1159       179\n",
            "          26     0.0000    0.0000    0.0000        13\n",
            "          27     0.1429    0.0120    0.0222       166\n",
            "          28     0.4706    0.0251    0.0476       319\n",
            "          29     0.4344    0.0780    0.1322      1231\n",
            "          30     0.7488    0.8253    0.7852     84508\n",
            "          31     0.6231    0.5488    0.5836     24197\n",
            "          32     0.5544    0.4837    0.5166     13739\n",
            "          33     0.9138    0.9723    0.9422    344118\n",
            "          34     0.6982    0.6424    0.6691     39256\n",
            "          35     0.5389    0.3546    0.4278     10557\n",
            "          36     0.3729    0.0364    0.0664       604\n",
            "          37     0.6229    0.4428    0.5176      5529\n",
            "          38     0.5696    0.4801    0.5210     14890\n",
            "          39     0.6802    0.6252    0.6516     28040\n",
            "          40     0.6829    0.1677    0.2692       501\n",
            "          41     0.5092    0.2262    0.3132      1353\n",
            "          42     0.5153    0.3612    0.4247     15745\n",
            "          43     0.4833    0.2050    0.2879      1766\n",
            "          44     0.6045    0.5286    0.5640     34869\n",
            "          45     0.7633    0.8884    0.8211    183332\n",
            "          48     0.6440    0.4604    0.5369     16249\n",
            "          50     0.6663    0.6621    0.6642     81918\n",
            "          51     0.3739    0.0524    0.0919      3227\n",
            "          52     0.0000    0.0000    0.0000         7\n",
            "          55     0.7986    0.8126    0.8055     21476\n",
            "          60     0.7761    0.7816    0.7789     23123\n",
            "          61     0.0000    0.0000    0.0000        16\n",
            "          62     0.0000    0.0000    0.0000        14\n",
            "          63     0.6614    0.6653    0.6633     13653\n",
            "          64     0.7318    0.7355    0.7336     10671\n",
            "          65     0.7114    0.6438    0.6759     21005\n",
            "          66     0.9513    0.9447    0.9480     25786\n",
            "          67     0.5000    0.0270    0.0513        74\n",
            "          70     0.6076    0.4236    0.4992      1506\n",
            "          71     0.7341    0.7118    0.7228     45037\n",
            "          72     0.6525    0.6981    0.6745     37506\n",
            "          73     0.5461    0.2362    0.3297      3688\n",
            "          74     0.5385    0.0436    0.0807      1284\n",
            "          75     0.6841    0.1743    0.2778      4136\n",
            "          76     0.6655    0.3807    0.4843       486\n",
            "          77     0.7130    0.7096    0.7113      9205\n",
            "          78     0.4706    0.0398    0.0734       201\n",
            "          79     0.6286    0.5903    0.6089     54503\n",
            "          80     0.6353    0.6175    0.6263     17139\n",
            "          85     0.7838    0.8277    0.8051     42224\n",
            "          90     0.8297    0.8511    0.8403     51599\n",
            "          91     0.0000    0.0000    0.0000        10\n",
            "          92     0.6463    0.6651    0.6555     19767\n",
            "          93     0.5845    0.0701    0.1252      1826\n",
            "          95     0.0000    0.0000    0.0000         6\n",
            "          98     0.6839    0.5382    0.6024     19099\n",
            "          99     0.0000    0.0000    0.0000         5\n",
            "\n",
            "    accuracy                         0.7683   1441402\n",
            "   macro avg     0.5309    0.3787    0.4089   1441402\n",
            "weighted avg     0.7589    0.7683    0.7596   1441402\n",
            "\n"
          ]
        },
        {
          "output_type": "stream",
          "name": "stderr",
          "text": [
            "/usr/local/lib/python3.8/dist-packages/sklearn/metrics/_classification.py:1318: UndefinedMetricWarning: Precision and F-score are ill-defined and being set to 0.0 in labels with no predicted samples. Use `zero_division` parameter to control this behavior.\n",
            "  _warn_prf(average, modifier, msg_start, len(result))\n"
          ]
        }
      ],
      "source": [
        "print(pipe.score(X_test, y_test))\n",
        "predicted = pipe.predict(X_test)\n",
        "acc = metrics.accuracy_score(y_test, predicted)\n",
        "print(\"Accuracy:\", acc)\n",
        "precision = metrics.precision_score(y_test, predicted, average='macro')\n",
        "recall = metrics.recall_score(y_test, predicted, average='macro')\n",
        "fm = metrics.f1_score(y_test, predicted, average='macro')\n",
        "print(\"P={0}, R={1}, F1={2}\".format(precision, recall, fm))\n",
        "print(\"======================================================\")\n",
        "print(metrics.classification_report(y_test, predicted, digits=4))"
      ]
    },
    {
      "cell_type": "code",
      "execution_count": null,
      "metadata": {
        "id": "RsMEE9BRETpQ",
        "colab": {
          "base_uri": "https://localhost:8080/",
          "height": 848
        },
        "outputId": "036d36e6-7eac-4309-ba67-6c0cc8aef00f"
      },
      "outputs": [
        {
          "output_type": "error",
          "ename": "KeyError",
          "evalue": "ignored",
          "traceback": [
            "\u001b[0;31m---------------------------------------------------------------------------\u001b[0m",
            "\u001b[0;31mKeyError\u001b[0m                                  Traceback (most recent call last)",
            "\u001b[0;32m<ipython-input-21-b48981c987b4>\u001b[0m in \u001b[0;36m<module>\u001b[0;34m\u001b[0m\n\u001b[1;32m      4\u001b[0m \u001b[0mX\u001b[0m\u001b[0;34m.\u001b[0m\u001b[0miloc\u001b[0m\u001b[0;34m[\u001b[0m\u001b[0;34m[\u001b[0m\u001b[0;36m31829\u001b[0m\u001b[0;34m,\u001b[0m \u001b[0;36m68724\u001b[0m\u001b[0;34m,\u001b[0m \u001b[0;36m78173\u001b[0m\u001b[0;34m,\u001b[0m \u001b[0;36m87799\u001b[0m\u001b[0;34m,\u001b[0m \u001b[0;36m182204\u001b[0m\u001b[0;34m,\u001b[0m \u001b[0;36m186082\u001b[0m\u001b[0;34m,\u001b[0m \u001b[0;36m241863\u001b[0m\u001b[0;34m,\u001b[0m \u001b[0;36m267822\u001b[0m\u001b[0;34m,\u001b[0m \u001b[0;36m271924\u001b[0m\u001b[0;34m,\u001b[0m \u001b[0;36m286483\u001b[0m\u001b[0;34m,\u001b[0m \u001b[0;36m292493\u001b[0m\u001b[0;34m,\u001b[0m \u001b[0;36m325122\u001b[0m\u001b[0;34m,\u001b[0m \u001b[0;36m353594\u001b[0m\u001b[0;34m,\u001b[0m \u001b[0;36m353602\u001b[0m\u001b[0;34m,\u001b[0m \u001b[0;36m353769\u001b[0m\u001b[0;34m,\u001b[0m \u001b[0;36m353788\u001b[0m\u001b[0;34m,\u001b[0m \u001b[0;36m353824\u001b[0m\u001b[0;34m,\u001b[0m \u001b[0;36m353974\u001b[0m\u001b[0;34m,\u001b[0m \u001b[0;36m354280\u001b[0m\u001b[0;34m,\u001b[0m \u001b[0;36m354422\u001b[0m\u001b[0;34m,\u001b[0m \u001b[0;36m354425\u001b[0m\u001b[0;34m,\u001b[0m \u001b[0;36m354463\u001b[0m\u001b[0;34m,\u001b[0m \u001b[0;36m354472\u001b[0m\u001b[0;34m,\u001b[0m \u001b[0;36m354477\u001b[0m\u001b[0;34m,\u001b[0m \u001b[0;36m354597\u001b[0m\u001b[0;34m,\u001b[0m \u001b[0;36m354657\u001b[0m\u001b[0;34m,\u001b[0m \u001b[0;36m354704\u001b[0m\u001b[0;34m,\u001b[0m \u001b[0;36m354738\u001b[0m\u001b[0;34m,\u001b[0m \u001b[0;36m354768\u001b[0m\u001b[0;34m,\u001b[0m \u001b[0;36m354772\u001b[0m\u001b[0;34m,\u001b[0m \u001b[0;36m354793\u001b[0m\u001b[0;34m,\u001b[0m \u001b[0;36m354826\u001b[0m\u001b[0;34m,\u001b[0m \u001b[0;36m354827\u001b[0m\u001b[0;34m,\u001b[0m \u001b[0;36m354847\u001b[0m\u001b[0;34m,\u001b[0m \u001b[0;36m355159\u001b[0m\u001b[0;34m,\u001b[0m \u001b[0;36m355242\u001b[0m\u001b[0;34m,\u001b[0m \u001b[0;36m355362\u001b[0m\u001b[0;34m,\u001b[0m \u001b[0;36m355599\u001b[0m\u001b[0;34m,\u001b[0m \u001b[0;36m355661\u001b[0m\u001b[0;34m,\u001b[0m \u001b[0;36m355704\u001b[0m\u001b[0;34m,\u001b[0m \u001b[0;36m355722\u001b[0m\u001b[0;34m,\u001b[0m \u001b[0;36m355729\u001b[0m\u001b[0;34m,\u001b[0m \u001b[0;36m355763\u001b[0m\u001b[0;34m,\u001b[0m \u001b[0;36m355802\u001b[0m\u001b[0;34m,\u001b[0m \u001b[0;36m355860\u001b[0m\u001b[0;34m,\u001b[0m \u001b[0;36m355944\u001b[0m\u001b[0;34m,\u001b[0m \u001b[0;36m355948\u001b[0m\u001b[0;34m,\u001b[0m \u001b[0;36m356057\u001b[...\n\u001b[1;32m      5\u001b[0m \u001b[0;32mfor\u001b[0m \u001b[0mtrain_index\u001b[0m\u001b[0;34m,\u001b[0m \u001b[0mtest_index\u001b[0m \u001b[0;32min\u001b[0m \u001b[0mkf\u001b[0m\u001b[0;34m.\u001b[0m\u001b[0msplit\u001b[0m\u001b[0;34m(\u001b[0m\u001b[0mX\u001b[0m\u001b[0;34m)\u001b[0m\u001b[0;34m:\u001b[0m\u001b[0;34m\u001b[0m\u001b[0;34m\u001b[0m\u001b[0m\n\u001b[0;32m----> 6\u001b[0;31m   \u001b[0mpipe\u001b[0m\u001b[0;34m.\u001b[0m\u001b[0mfit\u001b[0m\u001b[0;34m(\u001b[0m\u001b[0mX\u001b[0m\u001b[0;34m[\u001b[0m\u001b[0mtrain_index\u001b[0m\u001b[0;34m]\u001b[0m\u001b[0;34m,\u001b[0m \u001b[0my\u001b[0m\u001b[0;34m[\u001b[0m\u001b[0mtrain_index\u001b[0m\u001b[0;34m]\u001b[0m\u001b[0;34m)\u001b[0m\u001b[0;34m\u001b[0m\u001b[0;34m\u001b[0m\u001b[0m\n\u001b[0m\u001b[1;32m      7\u001b[0m   \u001b[0mpredicted\u001b[0m \u001b[0;34m=\u001b[0m \u001b[0mpipe\u001b[0m\u001b[0;34m.\u001b[0m\u001b[0mpredict\u001b[0m\u001b[0;34m(\u001b[0m\u001b[0mX\u001b[0m\u001b[0;34m[\u001b[0m\u001b[0mtest_index\u001b[0m\u001b[0;34m]\u001b[0m\u001b[0;34m)\u001b[0m\u001b[0;34m\u001b[0m\u001b[0;34m\u001b[0m\u001b[0m\n\u001b[1;32m      8\u001b[0m   \u001b[0mfmacro\u001b[0m \u001b[0;34m=\u001b[0m \u001b[0mfmacro\u001b[0m \u001b[0;34m+\u001b[0m \u001b[0mmetrics\u001b[0m\u001b[0;34m.\u001b[0m\u001b[0mf1_score\u001b[0m\u001b[0;34m(\u001b[0m\u001b[0my\u001b[0m\u001b[0;34m[\u001b[0m\u001b[0mtest_index\u001b[0m\u001b[0;34m]\u001b[0m\u001b[0;34m,\u001b[0m \u001b[0mpredicted\u001b[0m\u001b[0;34m,\u001b[0m \u001b[0maverage\u001b[0m\u001b[0;34m=\u001b[0m\u001b[0;34m'macro'\u001b[0m\u001b[0;34m)\u001b[0m\u001b[0;34m\u001b[0m\u001b[0;34m\u001b[0m\u001b[0m\n",
            "\u001b[0;32m/usr/local/lib/python3.8/dist-packages/pandas/core/series.py\u001b[0m in \u001b[0;36m__getitem__\u001b[0;34m(self, key)\u001b[0m\n\u001b[1;32m    964\u001b[0m             \u001b[0;32mreturn\u001b[0m \u001b[0mself\u001b[0m\u001b[0;34m.\u001b[0m\u001b[0m_get_values\u001b[0m\u001b[0;34m(\u001b[0m\u001b[0mkey\u001b[0m\u001b[0;34m)\u001b[0m\u001b[0;34m\u001b[0m\u001b[0;34m\u001b[0m\u001b[0m\n\u001b[1;32m    965\u001b[0m \u001b[0;34m\u001b[0m\u001b[0m\n\u001b[0;32m--> 966\u001b[0;31m         \u001b[0;32mreturn\u001b[0m \u001b[0mself\u001b[0m\u001b[0;34m.\u001b[0m\u001b[0m_get_with\u001b[0m\u001b[0;34m(\u001b[0m\u001b[0mkey\u001b[0m\u001b[0;34m)\u001b[0m\u001b[0;34m\u001b[0m\u001b[0;34m\u001b[0m\u001b[0m\n\u001b[0m\u001b[1;32m    967\u001b[0m \u001b[0;34m\u001b[0m\u001b[0m\n\u001b[1;32m    968\u001b[0m     \u001b[0;32mdef\u001b[0m \u001b[0m_get_with\u001b[0m\u001b[0;34m(\u001b[0m\u001b[0mself\u001b[0m\u001b[0;34m,\u001b[0m \u001b[0mkey\u001b[0m\u001b[0;34m)\u001b[0m\u001b[0;34m:\u001b[0m\u001b[0;34m\u001b[0m\u001b[0;34m\u001b[0m\u001b[0m\n",
            "\u001b[0;32m/usr/local/lib/python3.8/dist-packages/pandas/core/series.py\u001b[0m in \u001b[0;36m_get_with\u001b[0;34m(self, key)\u001b[0m\n\u001b[1;32m    999\u001b[0m             \u001b[0;31m#  (i.e. self.iloc) or label-based (i.e. self.loc)\u001b[0m\u001b[0;34m\u001b[0m\u001b[0;34m\u001b[0m\u001b[0;34m\u001b[0m\u001b[0m\n\u001b[1;32m   1000\u001b[0m             \u001b[0;32mif\u001b[0m \u001b[0;32mnot\u001b[0m \u001b[0mself\u001b[0m\u001b[0;34m.\u001b[0m\u001b[0mindex\u001b[0m\u001b[0;34m.\u001b[0m\u001b[0m_should_fallback_to_positional\u001b[0m\u001b[0;34m(\u001b[0m\u001b[0;34m)\u001b[0m\u001b[0;34m:\u001b[0m\u001b[0;34m\u001b[0m\u001b[0;34m\u001b[0m\u001b[0m\n\u001b[0;32m-> 1001\u001b[0;31m                 \u001b[0;32mreturn\u001b[0m \u001b[0mself\u001b[0m\u001b[0;34m.\u001b[0m\u001b[0mloc\u001b[0m\u001b[0;34m[\u001b[0m\u001b[0mkey\u001b[0m\u001b[0;34m]\u001b[0m\u001b[0;34m\u001b[0m\u001b[0;34m\u001b[0m\u001b[0m\n\u001b[0m\u001b[1;32m   1002\u001b[0m             \u001b[0;32melse\u001b[0m\u001b[0;34m:\u001b[0m\u001b[0;34m\u001b[0m\u001b[0;34m\u001b[0m\u001b[0m\n\u001b[1;32m   1003\u001b[0m                 \u001b[0;32mreturn\u001b[0m \u001b[0mself\u001b[0m\u001b[0;34m.\u001b[0m\u001b[0miloc\u001b[0m\u001b[0;34m[\u001b[0m\u001b[0mkey\u001b[0m\u001b[0;34m]\u001b[0m\u001b[0;34m\u001b[0m\u001b[0;34m\u001b[0m\u001b[0m\n",
            "\u001b[0;32m/usr/local/lib/python3.8/dist-packages/pandas/core/indexing.py\u001b[0m in \u001b[0;36m__getitem__\u001b[0;34m(self, key)\u001b[0m\n\u001b[1;32m    929\u001b[0m \u001b[0;34m\u001b[0m\u001b[0m\n\u001b[1;32m    930\u001b[0m             \u001b[0mmaybe_callable\u001b[0m \u001b[0;34m=\u001b[0m \u001b[0mcom\u001b[0m\u001b[0;34m.\u001b[0m\u001b[0mapply_if_callable\u001b[0m\u001b[0;34m(\u001b[0m\u001b[0mkey\u001b[0m\u001b[0;34m,\u001b[0m \u001b[0mself\u001b[0m\u001b[0;34m.\u001b[0m\u001b[0mobj\u001b[0m\u001b[0;34m)\u001b[0m\u001b[0;34m\u001b[0m\u001b[0;34m\u001b[0m\u001b[0m\n\u001b[0;32m--> 931\u001b[0;31m             \u001b[0;32mreturn\u001b[0m \u001b[0mself\u001b[0m\u001b[0;34m.\u001b[0m\u001b[0m_getitem_axis\u001b[0m\u001b[0;34m(\u001b[0m\u001b[0mmaybe_callable\u001b[0m\u001b[0;34m,\u001b[0m \u001b[0maxis\u001b[0m\u001b[0;34m=\u001b[0m\u001b[0maxis\u001b[0m\u001b[0;34m)\u001b[0m\u001b[0;34m\u001b[0m\u001b[0;34m\u001b[0m\u001b[0m\n\u001b[0m\u001b[1;32m    932\u001b[0m \u001b[0;34m\u001b[0m\u001b[0m\n\u001b[1;32m    933\u001b[0m     \u001b[0;32mdef\u001b[0m \u001b[0m_is_scalar_access\u001b[0m\u001b[0;34m(\u001b[0m\u001b[0mself\u001b[0m\u001b[0;34m,\u001b[0m \u001b[0mkey\u001b[0m\u001b[0;34m:\u001b[0m \u001b[0mtuple\u001b[0m\u001b[0;34m)\u001b[0m\u001b[0;34m:\u001b[0m\u001b[0;34m\u001b[0m\u001b[0;34m\u001b[0m\u001b[0m\n",
            "\u001b[0;32m/usr/local/lib/python3.8/dist-packages/pandas/core/indexing.py\u001b[0m in \u001b[0;36m_getitem_axis\u001b[0;34m(self, key, axis)\u001b[0m\n\u001b[1;32m   1151\u001b[0m                     \u001b[0;32mraise\u001b[0m \u001b[0mValueError\u001b[0m\u001b[0;34m(\u001b[0m\u001b[0;34m\"Cannot index with multidimensional key\"\u001b[0m\u001b[0;34m)\u001b[0m\u001b[0;34m\u001b[0m\u001b[0;34m\u001b[0m\u001b[0m\n\u001b[1;32m   1152\u001b[0m \u001b[0;34m\u001b[0m\u001b[0m\n\u001b[0;32m-> 1153\u001b[0;31m                 \u001b[0;32mreturn\u001b[0m \u001b[0mself\u001b[0m\u001b[0;34m.\u001b[0m\u001b[0m_getitem_iterable\u001b[0m\u001b[0;34m(\u001b[0m\u001b[0mkey\u001b[0m\u001b[0;34m,\u001b[0m \u001b[0maxis\u001b[0m\u001b[0;34m=\u001b[0m\u001b[0maxis\u001b[0m\u001b[0;34m)\u001b[0m\u001b[0;34m\u001b[0m\u001b[0;34m\u001b[0m\u001b[0m\n\u001b[0m\u001b[1;32m   1154\u001b[0m \u001b[0;34m\u001b[0m\u001b[0m\n\u001b[1;32m   1155\u001b[0m             \u001b[0;31m# nested tuple slicing\u001b[0m\u001b[0;34m\u001b[0m\u001b[0;34m\u001b[0m\u001b[0;34m\u001b[0m\u001b[0m\n",
            "\u001b[0;32m/usr/local/lib/python3.8/dist-packages/pandas/core/indexing.py\u001b[0m in \u001b[0;36m_getitem_iterable\u001b[0;34m(self, key, axis)\u001b[0m\n\u001b[1;32m   1091\u001b[0m \u001b[0;34m\u001b[0m\u001b[0m\n\u001b[1;32m   1092\u001b[0m         \u001b[0;31m# A collection of keys\u001b[0m\u001b[0;34m\u001b[0m\u001b[0;34m\u001b[0m\u001b[0;34m\u001b[0m\u001b[0m\n\u001b[0;32m-> 1093\u001b[0;31m         \u001b[0mkeyarr\u001b[0m\u001b[0;34m,\u001b[0m \u001b[0mindexer\u001b[0m \u001b[0;34m=\u001b[0m \u001b[0mself\u001b[0m\u001b[0;34m.\u001b[0m\u001b[0m_get_listlike_indexer\u001b[0m\u001b[0;34m(\u001b[0m\u001b[0mkey\u001b[0m\u001b[0;34m,\u001b[0m \u001b[0maxis\u001b[0m\u001b[0;34m)\u001b[0m\u001b[0;34m\u001b[0m\u001b[0;34m\u001b[0m\u001b[0m\n\u001b[0m\u001b[1;32m   1094\u001b[0m         return self.obj._reindex_with_indexers(\n\u001b[1;32m   1095\u001b[0m             \u001b[0;34m{\u001b[0m\u001b[0maxis\u001b[0m\u001b[0;34m:\u001b[0m \u001b[0;34m[\u001b[0m\u001b[0mkeyarr\u001b[0m\u001b[0;34m,\u001b[0m \u001b[0mindexer\u001b[0m\u001b[0;34m]\u001b[0m\u001b[0;34m}\u001b[0m\u001b[0;34m,\u001b[0m \u001b[0mcopy\u001b[0m\u001b[0;34m=\u001b[0m\u001b[0;32mTrue\u001b[0m\u001b[0;34m,\u001b[0m \u001b[0mallow_dups\u001b[0m\u001b[0;34m=\u001b[0m\u001b[0;32mTrue\u001b[0m\u001b[0;34m\u001b[0m\u001b[0;34m\u001b[0m\u001b[0m\n",
            "\u001b[0;32m/usr/local/lib/python3.8/dist-packages/pandas/core/indexing.py\u001b[0m in \u001b[0;36m_get_listlike_indexer\u001b[0;34m(self, key, axis)\u001b[0m\n\u001b[1;32m   1312\u001b[0m             \u001b[0mkeyarr\u001b[0m\u001b[0;34m,\u001b[0m \u001b[0mindexer\u001b[0m\u001b[0;34m,\u001b[0m \u001b[0mnew_indexer\u001b[0m \u001b[0;34m=\u001b[0m \u001b[0max\u001b[0m\u001b[0;34m.\u001b[0m\u001b[0m_reindex_non_unique\u001b[0m\u001b[0;34m(\u001b[0m\u001b[0mkeyarr\u001b[0m\u001b[0;34m)\u001b[0m\u001b[0;34m\u001b[0m\u001b[0;34m\u001b[0m\u001b[0m\n\u001b[1;32m   1313\u001b[0m \u001b[0;34m\u001b[0m\u001b[0m\n\u001b[0;32m-> 1314\u001b[0;31m         \u001b[0mself\u001b[0m\u001b[0;34m.\u001b[0m\u001b[0m_validate_read_indexer\u001b[0m\u001b[0;34m(\u001b[0m\u001b[0mkeyarr\u001b[0m\u001b[0;34m,\u001b[0m \u001b[0mindexer\u001b[0m\u001b[0;34m,\u001b[0m \u001b[0maxis\u001b[0m\u001b[0;34m)\u001b[0m\u001b[0;34m\u001b[0m\u001b[0;34m\u001b[0m\u001b[0m\n\u001b[0m\u001b[1;32m   1315\u001b[0m \u001b[0;34m\u001b[0m\u001b[0m\n\u001b[1;32m   1316\u001b[0m         if needs_i8_conversion(ax.dtype) or isinstance(\n",
            "\u001b[0;32m/usr/local/lib/python3.8/dist-packages/pandas/core/indexing.py\u001b[0m in \u001b[0;36m_validate_read_indexer\u001b[0;34m(self, key, indexer, axis)\u001b[0m\n\u001b[1;32m   1375\u001b[0m \u001b[0;34m\u001b[0m\u001b[0m\n\u001b[1;32m   1376\u001b[0m             \u001b[0mnot_found\u001b[0m \u001b[0;34m=\u001b[0m \u001b[0mlist\u001b[0m\u001b[0;34m(\u001b[0m\u001b[0mensure_index\u001b[0m\u001b[0;34m(\u001b[0m\u001b[0mkey\u001b[0m\u001b[0;34m)\u001b[0m\u001b[0;34m[\u001b[0m\u001b[0mmissing_mask\u001b[0m\u001b[0;34m.\u001b[0m\u001b[0mnonzero\u001b[0m\u001b[0;34m(\u001b[0m\u001b[0;34m)\u001b[0m\u001b[0;34m[\u001b[0m\u001b[0;36m0\u001b[0m\u001b[0;34m]\u001b[0m\u001b[0;34m]\u001b[0m\u001b[0;34m.\u001b[0m\u001b[0munique\u001b[0m\u001b[0;34m(\u001b[0m\u001b[0;34m)\u001b[0m\u001b[0;34m)\u001b[0m\u001b[0;34m\u001b[0m\u001b[0;34m\u001b[0m\u001b[0m\n\u001b[0;32m-> 1377\u001b[0;31m             \u001b[0;32mraise\u001b[0m \u001b[0mKeyError\u001b[0m\u001b[0;34m(\u001b[0m\u001b[0;34mf\"{not_found} not in index\"\u001b[0m\u001b[0;34m)\u001b[0m\u001b[0;34m\u001b[0m\u001b[0;34m\u001b[0m\u001b[0m\n\u001b[0m\u001b[1;32m   1378\u001b[0m \u001b[0;34m\u001b[0m\u001b[0m\n\u001b[1;32m   1379\u001b[0m \u001b[0;34m\u001b[0m\u001b[0m\n",
            "\u001b[0;31mKeyError\u001b[0m: '[31829, 68724, 78173, 87799, 182204, 186082, 241863, 267822, 271924, 286483, 292493, 325122, 353594, 353602, 353769, 353788, 353824, 353974, 354280, 354422, 354425, 354463, 354472, 354477, 354597, 354657, 354704, 354738, 354768, 354772, 354793, 354826, 354827, 354847, 355159, 355242, 355362, 355599, 355661, 355704, 355722, 355729, 355763, 355802, 355860, 355944, 355948, 356057, 356149, 356318, 356623, 356943, 356999, 357067, 357073, 357118, 357202, 357248, 357648, 357671, 357716, 357749, 357914, 358163, 358382, 358396, 358416, 358811, 359283, 359583, 360200, 360268, 360444, 360458, 360566, 360630, 360693, 360725, 360962, 361087, 361449, 361749, 361850, 361859, 362021, 362237, 362347, 362362, 362726, 362762, 362774, 363232, 363279, 363280, 363501, 363648, 363659, 363837, 363902, 364155, 364162, 364289, 364385, 364502, 364570, 364677, 364722, 365052, 365085, 365122, 365261, 365326, 365402, 365567, 365609, 365778, 365793, 365831, 365930, 365968, 366036, 366052, 366060, 366091, 527061, 542301, 558383, 595214, 601968, 636511, 676993, 721979, 753300, 769646, 783321, 834494, 913409, 926279, 998202, 998869, 1010924, 1015496, 1029975, 1097487, 1139561, 1191949, 1288512, 1313146, 1314117, 1321210, 1351088, 1369348, 1374542, 1394090, 1411370, 1415237, 1434786, 1440738, 1441511, 1456613, 1469701, 1478890, 1500373, 1551046, 1634460, 1651768, 1684584, 1694683, 1704212, 1735395, 1840028, 1848504, 1853081, 1893443, 1901903, 1953939, 1958814, 1972578, 2024884, 2033010..."
          ]
        }
      ],
      "source": [
        "kf = KFold(n_splits=5, random_state=42, shuffle=True)\n",
        "fmicro = 0\n",
        "fmacro = 0\n",
        "X.iloc[[31829, 68724, 78173, 87799, 182204, 186082, 241863, 267822, 271924, 286483, 292493, 325122, 353594, 353602, 353769, 353788, 353824, 353974, 354280, 354422, 354425, 354463, 354472, 354477, 354597, 354657, 354704, 354738, 354768, 354772, 354793, 354826, 354827, 354847, 355159, 355242, 355362, 355599, 355661, 355704, 355722, 355729, 355763, 355802, 355860, 355944, 355948, 356057, 356149, 356318, 356623, 356943, 356999, 357067, 357073, 357118, 357202, 357248, 357648, 357671, 357716, 357749, 357914, 358163, 358382, 358396, 358416, 358811, 359283, 359583, 360200, 360268, 360444, 360458, 360566, 360630, 360693, 360725, 360962, 361087, 361449, 361749, 361850, 361859, 362021, 362237, 362347, 362362, 362726, 362762, 362774, 363232, 363279, 363280, 363501, 363648, 363659, 363837, 363902, 364155, 364162, 364289, 364385, 364502, 364570, 364677, 364722, 365052, 365085, 365122, 365261, 365326, 365402, 365567, 365609, 365778, 365793, 365831, 365930, 365968, 366036, 366052, 366060, 366091, 527061, 542301, 558383, 595214, 601968, 636511, 676993, 721979, 753300, 769646, 783321, 834494, 913409, 926279, 998202, 998869, 1010924, 1015496, 1029975, 1097487, 1139561, 1191949, 1288512, 1313146, 1314117, 1321210, 1351088, 1369348, 1374542, 1394090, 1411370, 1415237, 1434786, 1440738, 1441511, 1456613, 1469701, 1478890, 1500373, 1551046, 1634460, 1651768, 1684584, 1694683, 1704212, 1735395, 1840028, 1848504, 1853081, 1893443, 1901903, 1953939, 1958814, 1972578, 2024884, 2033010, 2042685, 2062191, 2080868, 2137822, 2147573, 2240110, 2265292, 2269250, 2300596, 2302133, 2302435, 2314729, 2332929, 2393842, 2405060, 2406729, 2437601, 2451603, 2549068, 2596475, 2605994, 2613338, 2634606, 2669522, 2676490, 2684600, 2684729, 2684766, 2684786, 2684842, 2684943, 2685635, 2685688, 2685829, 2685913, 2686403, 2686458, 2686600, 2686611, 2687134, 2687372, 2687412, 2687428, 2687539, 2687555, 2687592, 2687841, 2687986, 2688048, 2688147, 2688284, 2688329, 2688443, 2688597, 2688603, 2688995, 2689013, 2689232, 2689684, 2689773, 2689873, 2689933, 2690053, 2690252, 2690269, 2690373, 2690432, 2690454, 2690496, 2690548, 2690553, 2690626, 2690783, 2690888, 2691007, 2691084, 2691214, 2691241, 2691315, 2691479, 2691668, 2691672, 2691721, 2691832, 2691855, 2691912, 2692017, 2692044, 2692105, 2692359, 2692448, 2692468, 2692572, 2692656, 2693269, 2693328, 2693330, 2693638, 2693690, 2693761, 2693775, 2693808, 2693869, 2693974, 2694048, 2694655, 2694857, 2694886, 2694947, 2695005, 2695121, 2695160, 2695241, 2695401, 2695414, 2695637, 2695722, 2695824, 2695989, 2696066, 2696199, 2696416, 2696487, 2700638, 2728999, 2740168, 2773240, 2789482, 2826505, 2857952, 2877016, 2905587, 2922075, 2923358, 2959758, 2961401, 2967037, 2967935, 2976050, 2989716, 3011459, 3122478, 3158423, 3236394, 3255470, 3316169, 3316364, 3437218, 3547612, 3593934, 3606589, 3618660, 3673279, 3682618, 3682737, 3683108, 3683124, 3683350, 3683581, 3683753, 3683941, 3683999, 3684072, 3684121, 3684131, 3684171, 3684295, 3684479, 3684529, 3684535, 3684536, 3684544, 3684563, 3684610, 3684638, 3684705, 3684983, 3685010, 3685059, 3685116, 3685130, 3685131, 3685137, 3685230, 3685283, 3685347, 3685375, 3685513, 3685756, 3685840, 3685883, 3685976, 3685977, 3686157, 3686227, 3686238, 3686373, 3686384, 3686404, 3686463, 3686689, 3686710, 3686859, 3686881, 3687155, 3687208, 3687271, 3687327, 3687718, 3687729, 3687992, 3688053, 3688057, 3688114, 3688130, 3688147, 3688181, 3688218, 3688239, 3688340, 3688344, 3688487, 3688503, 3688634, 3688661, 3688704, 3688744, 3688831, 3688911, 3689058, 3689258, 3689266, 3689498, 3689565, 3689869, 3690000, 3690463, 3690547, 3690718, 3690798, 3691092, 3691103, 3691197, 3691299, 3691510, 3691720, 3691788, 3691889, 3691966, 3692108, 3692184, 3692188, 3692272, 3692328, 3692372, 3692632, 3692899, 3692992, 3693020, 3693030, 3693197, 3693230, 3693231, 3693242, 3693253, 3693272, 3693409, 3693496, 3718061, 3729364, 3733641, 3775914, 3785109, 3792528, 3804869, 3830194, 3840450, 3944650, 3947363, 3961565, 3962848, 3962921, 3963067, 3963917, 3964105, 3966233, 3966460, 3967293, 3967462, 3967467, 3968312, 3968763, 3969008, 3969347, 3969776, 3969805, 3970664, 3970721, 3971102, 3971107, 3971865, 3972032, 3972164, 3972179, 3972249, 3972707, 3972877, 3972941, 3973200, 3973465, 4107793, 4119247, 4191756, 4218906, 4227522, 4322920, 4383124, 4410578, 4410733, 4421141, 4452169, 4509015, 4562144, 4705399, 4705425, 4705444, 4706768, 4708102, 4708106, 4708990, 4709205, 4710247, 4711411, 4712748, 4713337, 4714121, 4716786, 4717244, 4717334, 4717665, 4717738, 4718892, 4719065, 4735503, 4747945, 4769175, 4853970, 4897022, 4907883, 4919626, 4923321, 4985390, 5034097, 5056816, 5075551, 5075831, 5075949, 5076239, 5076382, 5076450, 5076480, 5076503, 5076600, 5076615, 5076646, 5076722, 5076747, 5076844, 5076874, 5077176, 5077274, 5077310, 5077450, 5077466, 5077488, 5077730, 5077763, 5077764, 5077789, 5077868, 5077966, 5078142, 5078286, 5078301, 5078314, 5078625, 5078671, 5078690, 5078735, 5078882, 5078951, 5078999, 5079005, 5079022, 5079392, 5079731, 5079787, 5079807, 5079978, 5080044, 5080069, 5080234, 5080432, 5080783, 5080935, 5080959, 5081121, 5081144, 5081638, 5081719, 5081823, 5082136, 5082172, 5082205, 5082210, 5082377, 5082533, 5082716, 5120504, 5120944, 5134162, 5181228, 5186230, 5186294, 5205690, 5215514, 5231684, 5356289, 5366415, 5403754, 5438203, 5467903, 5491686, 5494808, 5497865, 5523397, 5554205, 5610101, 5614351, 5621365, 5621641, 5649603, 5680898, 5854296, 5882534, 5924409, 5951840, 6018239, 6030303, 6039581, 6177433, 6177453, 6177521, 6177644, 6177812, 6177954, 6178065, 6178088, 6178181, 6178220, 6178393, 6178695, 6178939, 6179022, 6179073, 6179085, 6179099, 6179147, 6179295, 6179297, 6179644, 6179894, 6179954, 6179995, 6180024, 6180181, 6180280, 6180383, 6180603, 6180801, 6180859, 6180968, 6180976, 6181361, 6181466, 6181550, 6181772, 6181893, 6182088, 6182153, 6182324, 6182335, 6182469, 6182501, 6182503, 6182526, 6182908, 6182916, 6183030, 6183159, 6183231, 6183266, 6183302, 6183399, 6183973, 6183976, 6184481, 6184747, 6184949, 6185361, 6185362, 6185409, 6185661, 6185810, 6185833, 6185866, 6185871, 6185888, 6185911, 6186181, 6186251, 6186300, 6186347, 6186624, 6186746, 6186892, 6187018, 6187177, 6187210, 6187363, 6187474, 6187721, 6187744, 6187781, 6187782, 6188011, 6188148, 6188375, 6188392, 6188503, 6188528, 6188548, 6188645, 6188657, 6188929, 6188942, 6188988, 6189267, 6189453, 6189490, 6189536, 6189604, 6189636, 6189844, 6189884, 6189888, 6189914, 6190002, 6190005, 6190076, 6190270, 6190334, 6190399, 6190420, 6190543, 6190583, 6190602, 6190640, 6190827, 6190902, 6191034, 6191082, 6191083, 6191093, 6191168, 6191239, 6191240, 6191322, 6191387, 6212679, 6251550, 6309850, 6338508, 6372242, 6376613, 6383928, 6418035, 6429931, 6431163, 6449715, 6456158, 6460664, 6519826, 6520923, 6529883, 6554442, 6652031, 6659582, 6662449, 6677329, 6765943, 6784866, 6806475, 6830689, 6956908]]\n",
        "for train_index, test_index in kf.split(X):\n",
        "  pipe.fit(X[train_index], y[train_index])\n",
        "  predicted = pipe.predict(X[test_index])\n",
        "  fmacro = fmacro + metrics.f1_score(y[test_index], predicted, average='macro')\n",
        "  fmicro = fmicro + metrics.f1_score(y[test_index], predicted, average='micro')\n",
        "print(\"F-macro: \",fmacro/5)\n",
        "print(\"F-micro: \",fmicro/5)"
      ]
    }
  ],
  "metadata": {
    "colab": {
      "provenance": [],
      "include_colab_link": true
    },
    "kernelspec": {
      "display_name": "Python 3",
      "name": "python3"
    }
  },
  "nbformat": 4,
  "nbformat_minor": 0
}